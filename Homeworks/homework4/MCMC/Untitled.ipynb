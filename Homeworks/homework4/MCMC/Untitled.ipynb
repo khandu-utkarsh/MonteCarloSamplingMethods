{
 "cells": [
  {
   "cell_type": "code",
   "execution_count": 1,
   "id": "b6ba07f1-a9dd-44eb-b629-b7f286605b08",
   "metadata": {},
   "outputs": [],
   "source": [
    "import os"
   ]
  },
  {
   "cell_type": "code",
   "execution_count": 6,
   "id": "342f4e1b-38fe-45b2-a289-0cac7bcc6e44",
   "metadata": {},
   "outputs": [],
   "source": [
    "path = 'NYU/MonteCarlo\\Methods/Homeworks/homework4/MCMC/'"
   ]
  },
  {
   "cell_type": "code",
   "execution_count": 7,
   "id": "7b9cb7e3-14ee-4bfe-ae9c-c3767e6fcd83",
   "metadata": {},
   "outputs": [
    {
     "ename": "FileNotFoundError",
     "evalue": "[Errno 2] No such file or directory: 'NYU/Monte\\\\Carlo\\\\Methods/Homeworks/homework4/MCMC/'",
     "output_type": "error",
     "traceback": [
      "\u001b[0;31m---------------------------------------------------------------------------\u001b[0m",
      "\u001b[0;31mFileNotFoundError\u001b[0m                         Traceback (most recent call last)",
      "\u001b[0;32m/var/folders/gd/lqlbpjv13dxg0233c39793zr0000gn/T/ipykernel_50680/1007908865.py\u001b[0m in \u001b[0;36m<module>\u001b[0;34m\u001b[0m\n\u001b[0;32m----> 1\u001b[0;31m \u001b[0mfileNames\u001b[0m     \u001b[0;34m=\u001b[0m \u001b[0mos\u001b[0m\u001b[0;34m.\u001b[0m\u001b[0mlistdir\u001b[0m\u001b[0;34m(\u001b[0m\u001b[0mpath\u001b[0m\u001b[0;34m)\u001b[0m\u001b[0;34m\u001b[0m\u001b[0;34m\u001b[0m\u001b[0m\n\u001b[0m",
      "\u001b[0;31mFileNotFoundError\u001b[0m: [Errno 2] No such file or directory: 'NYU/Monte\\\\Carlo\\\\Methods/Homeworks/homework4/MCMC/'"
     ]
    }
   ],
   "source": [
    "fileNames     = os.listdir(path)"
   ]
  },
  {
   "cell_type": "code",
   "execution_count": null,
   "id": "38862ede-66ad-4116-a1eb-40ef9db9bda1",
   "metadata": {},
   "outputs": [],
   "source": []
  }
 ],
 "metadata": {
  "kernelspec": {
   "display_name": "Python 3 (ipykernel)",
   "language": "python",
   "name": "python3"
  },
  "language_info": {
   "codemirror_mode": {
    "name": "ipython",
    "version": 3
   },
   "file_extension": ".py",
   "mimetype": "text/x-python",
   "name": "python",
   "nbconvert_exporter": "python",
   "pygments_lexer": "ipython3",
   "version": "3.9.13"
  }
 },
 "nbformat": 4,
 "nbformat_minor": 5
}
