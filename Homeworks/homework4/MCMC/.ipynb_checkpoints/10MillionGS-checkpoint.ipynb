{
 "cells": [
  {
   "cell_type": "code",
   "execution_count": 1,
   "id": "050860a9-7b6e-47af-83cd-5a89aa39e2e9",
   "metadata": {},
   "outputs": [
    {
     "name": "stdout",
     "output_type": "stream",
     "text": [
      "Requirement already satisfied: emcee in /Users/Shared/anaconda3/lib/python3.9/site-packages (3.1.3)\n",
      "Requirement already satisfied: numpy in /Users/Shared/anaconda3/lib/python3.9/site-packages (from emcee) (1.21.5)\n"
     ]
    }
   ],
   "source": [
    "!pip install emcee"
   ]
  },
  {
   "cell_type": "code",
   "execution_count": null,
   "id": "602a2a0f-16a1-41d6-9a1a-eecaca696ab9",
   "metadata": {},
   "outputs": [],
   "source": [
    "import numpy as np\n",
    "from emcee.autocorr import AutocorrError, integrated_time\n",
    "import matplotlib.pyplot as plt\n",
    "from scipy import constants"
   ]
  },
  {
   "cell_type": "code",
   "execution_count": null,
   "id": "adf21318-9e98-40f9-927b-35305d3b566d",
   "metadata": {},
   "outputs": [],
   "source": [
    "import MCMC as g"
   ]
  },
  {
   "cell_type": "code",
   "execution_count": null,
   "id": "f779c44a-9865-42e0-8250-078c583b0db2",
   "metadata": {},
   "outputs": [],
   "source": [
    "model = g.MCMC_Gibbs(0.0005, 50) #Initializing Spins"
   ]
  },
  {
   "cell_type": "code",
   "execution_count": null,
   "id": "9450bf84-48ea-4bc3-9a46-3fa0807105fd",
   "metadata": {},
   "outputs": [],
   "source": [
    "N = 9000000 #9 million\n",
    "trajectoriesCount = 10\n",
    "magsD = []\n",
    "magsR = []\n",
    "for i in range(trajectoriesCount):\n",
    "  d, r = g.GetMagnetization(model, N)\n",
    "  magsD.append(d)\n",
    "  magsR.append(r)"
   ]
  },
  {
   "cell_type": "code",
   "execution_count": null,
   "id": "cf215bf0-b1bd-4082-b489-bb2836deea16",
   "metadata": {},
   "outputs": [],
   "source": [
    "taus_d = []\n",
    "taus_r = []\n",
    "\n",
    "for i in range(trajectoriesCount):\n",
    "  td = integrated_time(magsD[i],tol=50)\n",
    "  tr = integrated_time(magsR[i],tol=50)\n",
    "  taus_d.append(td)\n",
    "  taus_r.append(tr)"
   ]
  },
  {
   "cell_type": "code",
   "execution_count": null,
   "id": "e74e757b-d911-4b9c-862a-28291e94b4f5",
   "metadata": {},
   "outputs": [],
   "source": [
    "x = np.arange(trajectoriesCount)\n",
    "plt.plot(x, taus_d, '-o');\n",
    "plt.xlabel('Trajectories Index') \n",
    "plt.ylabel('Integrated Autocorrelation Time') \n",
    "  # displaying the title\n",
    "plt.title(\"Deterministic | Sample Size: \" + str(N))\n",
    "plt.xticks(x)\n",
    "plt.savefig('8million_deter')"
   ]
  }
 ],
 "metadata": {
  "kernelspec": {
   "display_name": "Python 3 (ipykernel)",
   "language": "python",
   "name": "python3"
  },
  "language_info": {
   "codemirror_mode": {
    "name": "ipython",
    "version": 3
   },
   "file_extension": ".py",
   "mimetype": "text/x-python",
   "name": "python",
   "nbconvert_exporter": "python",
   "pygments_lexer": "ipython3",
   "version": "3.9.13"
  }
 },
 "nbformat": 4,
 "nbformat_minor": 5
}
